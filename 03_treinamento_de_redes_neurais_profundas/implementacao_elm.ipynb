{
 "metadata": {
  "language_info": {
   "codemirror_mode": {
    "name": "ipython",
    "version": 3
   },
   "file_extension": ".py",
   "mimetype": "text/x-python",
   "name": "python",
   "nbconvert_exporter": "python",
   "pygments_lexer": "ipython3",
   "version": "3.6.9-final"
  },
  "orig_nbformat": 2,
  "kernelspec": {
   "name": "python36964bitvenvvenv7c30df21793a40a1aa87bbfe0886fe59",
   "display_name": "Python 3.6.9 64-bit ('.venv': venv)"
  }
 },
 "nbformat": 4,
 "nbformat_minor": 2,
 "cells": [
  {
   "cell_type": "code",
   "execution_count": 1,
   "metadata": {},
   "outputs": [],
   "source": [
    "from collections import Counter\n",
    "from sklearn.model_selection import KFold\n",
    "from sklearn.base import BaseEstimator, ClassifierMixin\n",
    "\n",
    "import time\n",
    "import numpy as np\n",
    "import pandas as pd\n",
    "import matplotlib.pyplot as plt"
   ]
  },
  {
   "cell_type": "code",
   "execution_count": 2,
   "metadata": {},
   "outputs": [],
   "source": [
    "class PerformanceEvaluator():\n",
    "  def __init__(self, datasets, cv=None, groups=None):\n",
    "    self.cv = cv\n",
    "    self.datasets = []\n",
    "    self.groups = groups\n",
    "\n",
    "    if self.cv == None:\n",
    "      self.cv = KFold(n_splits=5)\n",
    "\n",
    "    for name, X, y in datasets:\n",
    "      self.datasets.append({\n",
    "        'name' : name,\n",
    "        'X' : X,\n",
    "        'y' : y,\n",
    "      })\n",
    "\n",
    "  def cross_validation_score(self, clf, dataset):\n",
    "    times = []\n",
    "    scores = []\n",
    "    X, y = dataset['X'], dataset['y']\n",
    "    for train, test in self.cv.split(X, y, self.groups):\n",
    "      t0 = time.time()\n",
    "      clf.fit(X[train], y[train])\n",
    "      t1 = time.time()\n",
    "      times.append(t1 - t0)\n",
    "      scores.append(clf.score(X[test], y[test]))\n",
    "    return scores, times\n",
    "\n",
    "  def score(self, clf, dataset):\n",
    "    score, times = self.cross_validation_score(clf[1], dataset)\n",
    "    return self.create_score_result(clf, dataset, [score], [times])\n",
    "\n",
    "  def create_score_result(self, clf, dataset, scores, times):\n",
    "    return {\n",
    "      'dataset': dataset['name'],\n",
    "      'classifier': clf[0],\n",
    "      'mean accuracy' : np.mean(scores),\n",
    "      'std accuracy' : np.std(scores),\n",
    "      'mean time' : \"{:.2f}s\".format(np.mean(times)),\n",
    "      'std time' : \"{:.2f}s\".format(np.std(times)),\n",
    "    }\n",
    "\n",
    "  def evaluate(self, clfs):\n",
    "    results = []\n",
    "    for clf in clfs:\n",
    "      for dataset in self.datasets:\n",
    "        print('Evaluating {} with {}'.format(clf[0], dataset['name']))\n",
    "        results.append(self.score(clf, dataset))\n",
    "    \n",
    "    dataframe = pd.DataFrame(results, columns=['dataset', 'classifier', 'mean accuracy', 'std accuracy', 'mean time', 'std time'])\n",
    "    dataframe.sort_values([\"dataset\", \"classifier\"], axis=0, ascending=True, inplace=True)\n",
    "    dataframe = dataframe.reset_index(drop=True)\n",
    "    return dataframe"
   ]
  },
  {
   "cell_type": "code",
   "execution_count": 3,
   "metadata": {},
   "outputs": [],
   "source": [
    "# Definição da classe ELM, baseada na classe BaseEstimator\n",
    "class ELM(BaseEstimator, ClassifierMixin):\n",
    "    def __init__(self, hidden_layer_size):\n",
    "        self.hidden_layer_size = hidden_layer_size      \n",
    "        \n",
    "        self.H = 0\n",
    "        self.beta = 0\n",
    "        self.bias = np.matrix(np.random.uniform(0, 1, (1, self.hidden_layer_size)))\n",
    "\n",
    "    def sigmoid(self, x):\n",
    "        return 1 / (1 + np.exp(-1 * x))\n",
    "        \n",
    "    def fit(self, X, y=None):\n",
    "\n",
    "        X = np.array(X)\n",
    "        y = np.array(y)        \n",
    "        self.input_size = X.shape[1]\n",
    "        self.output_size = np.unique(y).shape[0]\n",
    "        self.W = np.random.uniform(-0.5, 0.5, (self.input_size, self.hidden_layer_size))\n",
    "\n",
    "        self.H = X.dot(self.W) + self.bias\n",
    "        self.H = self.sigmoid(self.H)\n",
    "\n",
    "        pinv = np.linalg.pinv(self.H)\n",
    "        self.beta = pinv.dot(y)\n",
    "\n",
    "        return self\n",
    "\n",
    "    def predict(self, X):\n",
    "        X = np.array(X)\n",
    "        h = self.sigmoid(X.dot(self.W) + self.bias)\n",
    "        return (np.array(h.dot(self.beta)) > 0.5).astype(int)"
   ]
  },
  {
   "cell_type": "code",
   "execution_count": 4,
   "metadata": {
    "tags": []
   },
   "outputs": [
    {
     "output_type": "stream",
     "name": "stdout",
     "text": "Evaluating ELM with base1\nEvaluating ELM with base2\nEvaluating ELM with base3\nEvaluating ELM with base4\nEvaluating Perceptron with base1\nEvaluating Perceptron with base2\nEvaluating Perceptron with base3\nEvaluating Perceptron with base4\nEvaluating MLPClassifier with base1\nEvaluating MLPClassifier with base2\nEvaluating MLPClassifier with base3\nEvaluating MLPClassifier with base4\n"
    },
    {
     "output_type": "execute_result",
     "data": {
      "text/plain": "   dataset     classifier  mean accuracy  std accuracy mean time std time\n0    base1            ELM          0.952      0.012490     0.01s    0.00s\n1    base1  MLPClassifier          0.962      0.009274     6.52s    1.26s\n2    base1     Perceptron          0.854      0.084935     0.01s    0.00s\n3    base2            ELM          0.510      0.028810     0.03s    0.01s\n4    base2  MLPClassifier          0.579      0.022450     9.48s    0.82s\n5    base2     Perceptron          0.806      0.017436     0.08s    0.01s\n6    base3            ELM          0.647      0.048847     0.01s    0.00s\n7    base3  MLPClassifier          0.950      0.016125     4.93s    1.23s\n8    base3     Perceptron          0.520      0.021909     0.01s    0.00s\n9    base4            ELM          0.498      0.022494     0.02s    0.01s\n10   base4  MLPClassifier          0.482      0.044113     7.74s    1.37s\n11   base4     Perceptron          0.497      0.037363     0.10s    0.01s",
      "text/html": "<div>\n<style scoped>\n    .dataframe tbody tr th:only-of-type {\n        vertical-align: middle;\n    }\n\n    .dataframe tbody tr th {\n        vertical-align: top;\n    }\n\n    .dataframe thead th {\n        text-align: right;\n    }\n</style>\n<table border=\"1\" class=\"dataframe\">\n  <thead>\n    <tr style=\"text-align: right;\">\n      <th></th>\n      <th>dataset</th>\n      <th>classifier</th>\n      <th>mean accuracy</th>\n      <th>std accuracy</th>\n      <th>mean time</th>\n      <th>std time</th>\n    </tr>\n  </thead>\n  <tbody>\n    <tr>\n      <th>0</th>\n      <td>base1</td>\n      <td>ELM</td>\n      <td>0.952</td>\n      <td>0.012490</td>\n      <td>0.01s</td>\n      <td>0.00s</td>\n    </tr>\n    <tr>\n      <th>1</th>\n      <td>base1</td>\n      <td>MLPClassifier</td>\n      <td>0.962</td>\n      <td>0.009274</td>\n      <td>6.52s</td>\n      <td>1.26s</td>\n    </tr>\n    <tr>\n      <th>2</th>\n      <td>base1</td>\n      <td>Perceptron</td>\n      <td>0.854</td>\n      <td>0.084935</td>\n      <td>0.01s</td>\n      <td>0.00s</td>\n    </tr>\n    <tr>\n      <th>3</th>\n      <td>base2</td>\n      <td>ELM</td>\n      <td>0.510</td>\n      <td>0.028810</td>\n      <td>0.03s</td>\n      <td>0.01s</td>\n    </tr>\n    <tr>\n      <th>4</th>\n      <td>base2</td>\n      <td>MLPClassifier</td>\n      <td>0.579</td>\n      <td>0.022450</td>\n      <td>9.48s</td>\n      <td>0.82s</td>\n    </tr>\n    <tr>\n      <th>5</th>\n      <td>base2</td>\n      <td>Perceptron</td>\n      <td>0.806</td>\n      <td>0.017436</td>\n      <td>0.08s</td>\n      <td>0.01s</td>\n    </tr>\n    <tr>\n      <th>6</th>\n      <td>base3</td>\n      <td>ELM</td>\n      <td>0.647</td>\n      <td>0.048847</td>\n      <td>0.01s</td>\n      <td>0.00s</td>\n    </tr>\n    <tr>\n      <th>7</th>\n      <td>base3</td>\n      <td>MLPClassifier</td>\n      <td>0.950</td>\n      <td>0.016125</td>\n      <td>4.93s</td>\n      <td>1.23s</td>\n    </tr>\n    <tr>\n      <th>8</th>\n      <td>base3</td>\n      <td>Perceptron</td>\n      <td>0.520</td>\n      <td>0.021909</td>\n      <td>0.01s</td>\n      <td>0.00s</td>\n    </tr>\n    <tr>\n      <th>9</th>\n      <td>base4</td>\n      <td>ELM</td>\n      <td>0.498</td>\n      <td>0.022494</td>\n      <td>0.02s</td>\n      <td>0.01s</td>\n    </tr>\n    <tr>\n      <th>10</th>\n      <td>base4</td>\n      <td>MLPClassifier</td>\n      <td>0.482</td>\n      <td>0.044113</td>\n      <td>7.74s</td>\n      <td>1.37s</td>\n    </tr>\n    <tr>\n      <th>11</th>\n      <td>base4</td>\n      <td>Perceptron</td>\n      <td>0.497</td>\n      <td>0.037363</td>\n      <td>0.10s</td>\n      <td>0.01s</td>\n    </tr>\n  </tbody>\n</table>\n</div>"
     },
     "metadata": {},
     "execution_count": 4
    }
   ],
   "source": [
    "from sklearn.datasets import make_classification\n",
    "from sklearn.datasets import make_gaussian_quantiles\n",
    "\n",
    "from sklearn.linear_model import Perceptron\n",
    "from sklearn.neural_network import MLPClassifier\n",
    "\n",
    "base1_X, base1_y = make_classification(random_state=0, n_samples=1000, n_features=5)\n",
    "base2_X, base2_y = make_classification(random_state=0, n_samples=1000, n_features=1100)\n",
    "base3_X, base3_y = make_gaussian_quantiles(random_state=0, n_samples=1000, n_features=5, n_classes=2)\n",
    "base4_X, base4_y = make_gaussian_quantiles(random_state=0, n_samples=1000, n_features=1100, n_classes=2)\n",
    "\n",
    "base1_y = base1_y.reshape(-1,1)\n",
    "base2_y = base2_y.reshape(-1,1)\n",
    "base3_y = base3_y.reshape(-1,1)\n",
    "base4_y = base4_y.reshape(-1,1)\n",
    "\n",
    "datasets = [\n",
    "    ('base1', base1_X, base1_y),\n",
    "    ('base2', base2_X, base2_y),\n",
    "    ('base3', base3_X, base3_y),\n",
    "    ('base4', base4_X, base4_y),\n",
    "]\n",
    "\n",
    "classifiers = [\n",
    "    ('ELM', ELM(10)),\n",
    "    ('Perceptron', Perceptron()),\n",
    "    ('MLPClassifier', MLPClassifier()),\n",
    "]\n",
    "\n",
    "cv = None; groups = None\n",
    "pe = PerformanceEvaluator(datasets, cv=cv, groups=groups)\n",
    "pe.evaluate(classifiers)"
   ]
  }
 ]
}